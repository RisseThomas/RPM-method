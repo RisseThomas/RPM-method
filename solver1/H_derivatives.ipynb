{
 "cells": [
  {
   "cell_type": "markdown",
   "metadata": {},
   "source": [
    "We want to derive the successive arrays of derivatives of H from it's symbolic expression and have access to a function used to evaluate these arrays. "
   ]
  },
  {
   "cell_type": "code",
   "execution_count": 1,
   "metadata": {},
   "outputs": [],
   "source": [
    "import sympy as sp\n",
    "import numpy as np"
   ]
  },
  {
   "cell_type": "code",
   "execution_count": 2,
   "metadata": {},
   "outputs": [],
   "source": [
    "q, phi, C0, phi0 = sp.symbols('q, phi, C_0, phi_0', real=True)\n",
    "states = [q,phi]\n",
    "def hamiltonian(q,phi):\n",
    "    return q**2 / (2*C0) + phi**2 / (2*phi0)\n",
    "\n",
    "expr = hamiltonian(q,phi)\n",
    "expr = expr.subs(C0, 1)\n",
    "expr = expr.subs(phi0, 1)\n"
   ]
  },
  {
   "cell_type": "code",
   "execution_count": 3,
   "metadata": {},
   "outputs": [
    {
     "data": {
      "text/latex": [
       "$\\displaystyle \\frac{\\phi^{2}}{2} + \\frac{q^{2}}{2}$"
      ],
      "text/plain": [
       "phi**2/2 + q**2/2"
      ]
     },
     "execution_count": 3,
     "metadata": {},
     "output_type": "execute_result"
    }
   ],
   "source": [
    "expr"
   ]
  },
  {
   "cell_type": "markdown",
   "metadata": {},
   "source": [
    "Once the only symbols in the expression are the ones for which we need to derive, we can compute derivatives and lambdify the expressions to be able to evaluate the derivatives arrays up to order N."
   ]
  },
  {
   "cell_type": "code",
   "execution_count": 4,
   "metadata": {},
   "outputs": [],
   "source": [
    "diff_max_order = 2\n",
    "\n",
    "diffs = [0]*diff_max_order\n",
    "\n",
    "diffs[0] = sp.tensor.array.derive_by_array(expr, states)\n",
    "\n",
    "for i in range(1,diff_max_order):\n",
    " \n",
    "    diffs[i] = sp.tensor.array.derive_by_array(diffs[i-1], states)"
   ]
  },
  {
   "cell_type": "markdown",
   "metadata": {},
   "source": [
    "Once the derivatives arrays are stored as sympy expression in a list, we can create a list of lambda functions from the expressions using lambdify. The documentation of the generated function can be accessed using .doc."
   ]
  },
  {
   "cell_type": "code",
   "execution_count": 5,
   "metadata": {},
   "outputs": [
    {
     "name": "stdout",
     "output_type": "stream",
     "text": [
      "Created with lambdify. Signature:\n",
      "\n",
      "func(q, phi)\n",
      "\n",
      "Expression:\n",
      "\n",
      "[q, phi]\n",
      "\n",
      "Source code:\n",
      "\n",
      "def _lambdifygenerated(q, phi):\n",
      "    return numpy.array((q, phi))\n",
      "\n",
      "\n",
      "Imported modules:\n",
      "\n",
      "\n"
     ]
    }
   ],
   "source": [
    "f_diffs = [sp.lambdify(states,diffs[i]) for i in range(diff_max_order)]\n",
    "print(f_diffs[0].__doc__)"
   ]
  },
  {
   "cell_type": "markdown",
   "metadata": {},
   "source": [
    "Note : for higher odrder derivatives, the lambda expression returns a python list and not a numpy array. But we just need to transform it into a numpy array after evaluation if needed. "
   ]
  },
  {
   "cell_type": "code",
   "execution_count": 7,
   "metadata": {},
   "outputs": [],
   "source": [
    "def build_f(order):\n",
    "    return lambda x : np.array(f_diffs[order](*x))\n",
    "f_diffs_np = [build_f(i)  for i in range(diff_max_order)]"
   ]
  },
  {
   "cell_type": "code",
   "execution_count": 10,
   "metadata": {},
   "outputs": [
    {
     "ename": "IndexError",
     "evalue": "list index out of range",
     "output_type": "error",
     "traceback": [
      "\u001b[0;31m---------------------------------------------------------------------------\u001b[0m",
      "\u001b[0;31mIndexError\u001b[0m                                Traceback (most recent call last)",
      "\u001b[1;32m/home/thomas/stage/RPM method/H_derivatives.ipynb Cell 11'\u001b[0m in \u001b[0;36m<cell line: 1>\u001b[0;34m()\u001b[0m\n\u001b[0;32m----> <a href='vscode-notebook-cell:/home/thomas/stage/RPM%20method/H_derivatives.ipynb#ch0000010?line=0'>1</a>\u001b[0m f_diffs_np[\u001b[39m2\u001b[39;49m]([[\u001b[39m0\u001b[39m,\u001b[39m1\u001b[39m],[\u001b[39m1\u001b[39m,\u001b[39m2\u001b[39m]])\n",
      "\u001b[0;31mIndexError\u001b[0m: list index out of range"
     ]
    }
   ],
   "source": [
    "f_diffs_np[2]([[0,1],[1,2]])"
   ]
  },
  {
   "cell_type": "code",
   "execution_count": null,
   "metadata": {},
   "outputs": [],
   "source": []
  }
 ],
 "metadata": {
  "interpreter": {
   "hash": "e79cd7cccce0edb7ce1f8bb3e1f52ea26e8fff72d9eb49869062fa776612280f"
  },
  "kernelspec": {
   "display_name": "Python 3.9.7 ('RPMtest')",
   "language": "python",
   "name": "python3"
  },
  "language_info": {
   "codemirror_mode": {
    "name": "ipython",
    "version": 3
   },
   "file_extension": ".py",
   "mimetype": "text/x-python",
   "name": "python",
   "nbconvert_exporter": "python",
   "pygments_lexer": "ipython3",
   "version": "3.9.7"
  },
  "orig_nbformat": 4
 },
 "nbformat": 4,
 "nbformat_minor": 2
}
