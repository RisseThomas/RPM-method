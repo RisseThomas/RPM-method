{
 "cells": [
  {
   "cell_type": "code",
   "execution_count": 63,
   "metadata": {},
   "outputs": [],
   "source": [
    "import sympy as sp\n",
    "import scipy.special as spe\n",
    "import numpy as np"
   ]
  },
  {
   "cell_type": "code",
   "execution_count": 29,
   "metadata": {},
   "outputs": [
    {
     "data": {
      "text/latex": [
       "$\\displaystyle \\operatorname{Poly}{\\left( \\frac{3125}{512} x^{16} -  \\frac{9375}{448} x^{14} + \\frac{1875}{64} x^{12} -  \\frac{675}{32} x^{10} + \\frac{2025}{256} x^{8} -  \\frac{81}{64} x^{6}, x, domain=\\mathbb{Q} \\right)}$"
      ],
      "text/plain": [
       "Poly(3125/512*_x**16 - 9375/448*_x**14 + 1875/64*_x**12 - 675/32*_x**10 + 2025/256*_x**8 - 81/64*_x**6, _x, domain='QQ')"
      ]
     },
     "execution_count": 29,
     "metadata": {},
     "output_type": "execute_result"
    }
   ],
   "source": [
    "x = sp.symbols(symbols)\n",
    "a = sp.legendre(3,x)\n",
    "b = sp.legendre(3,x)\n",
    "c = sp.poly(a**5)\n",
    "sp.Poly.integrate(c)\n"
   ]
  },
  {
   "cell_type": "code",
   "execution_count": 64,
   "metadata": {},
   "outputs": [],
   "source": [
    "symbols = [f\"x{i}\" for i in range(5)]"
   ]
  },
  {
   "cell_type": "code",
   "execution_count": 65,
   "metadata": {},
   "outputs": [
    {
     "data": {
      "text/plain": [
       "['x0', 'x1', 'x2', 'x3', 'x4']"
      ]
     },
     "execution_count": 65,
     "metadata": {},
     "output_type": "execute_result"
    }
   ],
   "source": [
    "symbols"
   ]
  },
  {
   "cell_type": "code",
   "execution_count": 123,
   "metadata": {},
   "outputs": [],
   "source": [
    "tau, x0, x, sigma = sp.symbols('tau, x0, x, sigma', isreal  =True)\n",
    "proj_order = 2\n",
    "h=1\n",
    "\n",
    "dxs = [f\"dx{i}\" for i in range(proj_order)]\n",
    "dx = sp.symbols(dxs)\n",
    "\n",
    "leg = [0] * proj_order\n",
    "leg_int = [0] * proj_order\n",
    "state = x0\n",
    "for i in range(proj_order):\n",
    "    leg[i] = sp.Poly(sp.legendre(i, 2*sigma-1), sigma)\n",
    "    leg_int[i] = sp.Poly.integrate(leg[i])\n",
    "    state += h*dx[i]*(leg_int[i].eval(tau) - leg_int[i].eval(0))\n",
    "\n",
    "gradH = sp.poly(state**4+2*state)\n",
    "grad2H = gradH.diff()\n",
    "\n",
    "proj_grad = [0] * proj_order\n",
    "proj_grad2 = [[0] * proj_order]*proj_order\n",
    "for i in range(proj_order):\n",
    "    leg[i] = sp.Poly(sp.legendre(i, 2*tau-1), tau)\n",
    "    to_int = sp.Poly(leg[i] * gradH, tau)\n",
    "    integrated = sp.Poly.integrate(to_int)\n",
    "    proj_grad[i] = integrated.eval(1) - integrated.eval(0)\n",
    "    for j in range(proj_order):\n",
    "        to_int = sp.Poly(leg[i] *h * (leg_int[j].eval(tau) - leg_int[j].eval(0)) * gradH, tau)\n",
    "        integrated = sp.Poly.integrate(to_int)\n",
    "        proj_grad2[i][j] = integrated.eval(1) - integrated.eval(0)\n"
   ]
  },
  {
   "cell_type": "code",
   "execution_count": 124,
   "metadata": {},
   "outputs": [
    {
     "name": "stdout",
     "output_type": "stream",
     "text": [
      "3.63 µs ± 71.9 ns per loop (mean ± std. dev. of 7 runs, 100,000 loops each)\n"
     ]
    }
   ],
   "source": [
    "truc = sp.lambdify([x0, dx], proj_grad[0])\n",
    "\n",
    "\n",
    "%timeit truc(0, [1, 2])"
   ]
  },
  {
   "cell_type": "code",
   "execution_count": 126,
   "metadata": {},
   "outputs": [
    {
     "data": {
      "text/latex": [
       "$\\displaystyle \\frac{5 dx_{0}^{4}}{42} - \\frac{dx_{0}^{3} dx_{1}}{21} + \\frac{8 dx_{0}^{3} x_{0}}{15} + \\frac{dx_{0}^{2} dx_{1}^{2}}{84} - \\frac{6 dx_{0}^{2} dx_{1} x_{0}}{35} + \\frac{9 dx_{0}^{2} x_{0}^{2}}{10} - \\frac{dx_{0} dx_{1}^{3}}{630} + \\frac{dx_{0} dx_{1}^{2} x_{0}}{35} - \\frac{dx_{0} dx_{1} x_{0}^{2}}{5} + \\frac{2 dx_{0} x_{0}^{3}}{3} + \\frac{dx_{0}}{3} + \\frac{dx_{1}^{4}}{13860} - \\frac{dx_{1}^{3} x_{0}}{630} + \\frac{dx_{1}^{2} x_{0}^{2}}{70} - \\frac{dx_{1} x_{0}^{3}}{15} - \\frac{dx_{1}}{30} + \\frac{x_{0}^{4}}{6} + \\frac{x_{0}}{3}$"
      ],
      "text/plain": [
       "5*dx0**4/42 - dx0**3*dx1/21 + 8*dx0**3*x0/15 + dx0**2*dx1**2/84 - 6*dx0**2*dx1*x0/35 + 9*dx0**2*x0**2/10 - dx0*dx1**3/630 + dx0*dx1**2*x0/35 - dx0*dx1*x0**2/5 + 2*dx0*x0**3/3 + dx0/3 + dx1**4/13860 - dx1**3*x0/630 + dx1**2*x0**2/70 - dx1*x0**3/15 - dx1/30 + x0**4/6 + x0/3"
      ]
     },
     "execution_count": 126,
     "metadata": {},
     "output_type": "execute_result"
    }
   ],
   "source": [
    "proj_grad2[0][0]"
   ]
  },
  {
   "cell_type": "code",
   "execution_count": 103,
   "metadata": {},
   "outputs": [
    {
     "data": {
      "text/latex": [
       "$\\displaystyle \\frac{dx_{0}^{4}}{5} - \\frac{2 dx_{0}^{3} dx_{1}}{15} - \\frac{2 dx_{0}^{3} dx_{2}}{35} - \\frac{dx_{0}^{3} dx_{3}}{70} - \\frac{dx_{0}^{3} dx_{4}}{630} + dx_{0}^{3} x_{0} + \\frac{2 dx_{0}^{2} dx_{1}^{2}}{35} + \\frac{dx_{0}^{2} dx_{1} dx_{2}}{35} - \\frac{dx_{0}^{2} dx_{1} dx_{3}}{210} - \\frac{dx_{0}^{2} dx_{1} dx_{4}}{210} - \\frac{3 dx_{0}^{2} dx_{1} x_{0}}{5} + \\frac{dx_{0}^{2} dx_{2}^{2}}{105} + \\frac{dx_{0}^{2} dx_{2} dx_{3}}{210} - \\frac{dx_{0}^{2} dx_{2} dx_{4}}{462} - \\frac{dx_{0}^{2} dx_{2} x_{0}}{5} + \\frac{dx_{0}^{2} dx_{3}^{2}}{330} + \\frac{2 dx_{0}^{2} dx_{3} dx_{4}}{1155} - \\frac{dx_{0}^{2} dx_{3} x_{0}}{35} + \\frac{41 dx_{0}^{2} dx_{4}^{2}}{30030} + 2 dx_{0}^{2} x_{0}^{2} - \\frac{dx_{0} dx_{1}^{3}}{70} - \\frac{dx_{0} dx_{1}^{2} dx_{2}}{210} + \\frac{dx_{0} dx_{1}^{2} dx_{3}}{210} + \\frac{dx_{0} dx_{1}^{2} dx_{4}}{770} + \\frac{dx_{0} dx_{1}^{2} x_{0}}{5} - \\frac{dx_{0} dx_{1} dx_{2}^{2}}{210} - \\frac{dx_{0} dx_{1} dx_{2} dx_{3}}{1155} + \\frac{dx_{0} dx_{1} dx_{2} dx_{4}}{385} + \\frac{2 dx_{0} dx_{1} dx_{2} x_{0}}{35} - \\frac{2 dx_{0} dx_{1} dx_{3}^{2}}{1155} - \\frac{2 dx_{0} dx_{1} dx_{3} dx_{4}}{5005} - \\frac{dx_{0} dx_{1} dx_{3} x_{0}}{35} - \\frac{4 dx_{0} dx_{1} dx_{4}^{2}}{5005} - \\frac{dx_{0} dx_{1} dx_{4} x_{0}}{105} - dx_{0} dx_{1} x_{0}^{2} - \\frac{dx_{0} dx_{2}^{3}}{2310} - \\frac{dx_{0} dx_{2}^{2} dx_{3}}{2310} + \\frac{dx_{0} dx_{2}^{2} dx_{4}}{10010} + \\frac{dx_{0} dx_{2}^{2} x_{0}}{35} - \\frac{4 dx_{0} dx_{2} dx_{3}^{2}}{15015} - \\frac{2 dx_{0} dx_{2} dx_{3} dx_{4}}{5005} + \\frac{dx_{0} dx_{2} dx_{3} x_{0}}{105} - \\frac{2 dx_{0} dx_{2} dx_{4}^{2}}{15015} - \\frac{dx_{0} dx_{2} dx_{4} x_{0}}{105} - \\frac{dx_{0} dx_{2} x_{0}^{2}}{5} + \\frac{dx_{0} dx_{3}^{3}}{30030} - \\frac{dx_{0} dx_{3}^{2} dx_{4}}{30030} + \\frac{dx_{0} dx_{3}^{2} x_{0}}{105} + \\frac{dx_{0} dx_{3} dx_{4}^{2}}{30030} + \\frac{4 dx_{0} dx_{3} dx_{4} x_{0}}{1155} + \\frac{dx_{0} dx_{4}^{3}}{170170} + \\frac{dx_{0} dx_{4}^{2} x_{0}}{231} + 2 dx_{0} x_{0}^{3} + dx_{0} + \\frac{dx_{1}^{4}}{630} - \\frac{dx_{1}^{3} dx_{3}}{1155} - \\frac{dx_{1}^{3} x_{0}}{35} + \\frac{dx_{1}^{2} dx_{2}^{2}}{1155} - \\frac{3 dx_{1}^{2} dx_{2} dx_{4}}{5005} + \\frac{dx_{1}^{2} dx_{3}^{2}}{2730} + \\frac{dx_{1}^{2} dx_{3} x_{0}}{105} + \\frac{dx_{1}^{2} dx_{4}^{2}}{6006} + \\frac{dx_{1}^{2} x_{0}^{2}}{5} + \\frac{dx_{1} dx_{2}^{2} dx_{3}}{15015} - \\frac{dx_{1} dx_{2}^{2} x_{0}}{105} + \\frac{2 dx_{1} dx_{2} dx_{3} dx_{4}}{15015} + \\frac{2 dx_{1} dx_{2} dx_{4} x_{0}}{385} - \\frac{dx_{1} dx_{3}^{3}}{30030} - \\frac{4 dx_{1} dx_{3}^{2} x_{0}}{1155} - \\frac{dx_{1} dx_{3} dx_{4}^{2}}{34034} - \\frac{dx_{1} dx_{3} x_{0}^{2}}{35} - \\frac{8 dx_{1} dx_{4}^{2} x_{0}}{5005} - \\frac{2 dx_{1} x_{0}^{3}}{3} - \\frac{dx_{1}}{3} + \\frac{dx_{2}^{4}}{30030} - \\frac{dx_{2}^{3} dx_{4}}{45045} + \\frac{dx_{2}^{2} dx_{3}^{2}}{30030} - \\frac{dx_{2}^{2} dx_{3} x_{0}}{1155} + \\frac{dx_{2}^{2} dx_{4}^{2}}{46410} + \\frac{dx_{2}^{2} x_{0}^{2}}{35} - \\frac{dx_{2} dx_{3}^{2} dx_{4}}{510510} - \\frac{4 dx_{2} dx_{3} dx_{4} x_{0}}{5005} - \\frac{3 dx_{2} dx_{4}^{3}}{646646} - \\frac{dx_{2} dx_{4} x_{0}^{2}}{105} + \\frac{dx_{3}^{4}}{255255} + \\frac{dx_{3}^{3} x_{0}}{15015} + \\frac{5 dx_{3}^{2} dx_{4}^{2}}{969969} + \\frac{dx_{3}^{2} x_{0}^{2}}{105} + \\frac{dx_{3} dx_{4}^{2} x_{0}}{15015} + \\frac{4 dx_{4}^{4}}{4849845} + \\frac{dx_{4}^{2} x_{0}^{2}}{231} + x_{0}^{4} + 2 x_{0}$"
      ],
      "text/plain": [
       "dx0**4/5 - 2*dx0**3*dx1/15 - 2*dx0**3*dx2/35 - dx0**3*dx3/70 - dx0**3*dx4/630 + dx0**3*x0 + 2*dx0**2*dx1**2/35 + dx0**2*dx1*dx2/35 - dx0**2*dx1*dx3/210 - dx0**2*dx1*dx4/210 - 3*dx0**2*dx1*x0/5 + dx0**2*dx2**2/105 + dx0**2*dx2*dx3/210 - dx0**2*dx2*dx4/462 - dx0**2*dx2*x0/5 + dx0**2*dx3**2/330 + 2*dx0**2*dx3*dx4/1155 - dx0**2*dx3*x0/35 + 41*dx0**2*dx4**2/30030 + 2*dx0**2*x0**2 - dx0*dx1**3/70 - dx0*dx1**2*dx2/210 + dx0*dx1**2*dx3/210 + dx0*dx1**2*dx4/770 + dx0*dx1**2*x0/5 - dx0*dx1*dx2**2/210 - dx0*dx1*dx2*dx3/1155 + dx0*dx1*dx2*dx4/385 + 2*dx0*dx1*dx2*x0/35 - 2*dx0*dx1*dx3**2/1155 - 2*dx0*dx1*dx3*dx4/5005 - dx0*dx1*dx3*x0/35 - 4*dx0*dx1*dx4**2/5005 - dx0*dx1*dx4*x0/105 - dx0*dx1*x0**2 - dx0*dx2**3/2310 - dx0*dx2**2*dx3/2310 + dx0*dx2**2*dx4/10010 + dx0*dx2**2*x0/35 - 4*dx0*dx2*dx3**2/15015 - 2*dx0*dx2*dx3*dx4/5005 + dx0*dx2*dx3*x0/105 - 2*dx0*dx2*dx4**2/15015 - dx0*dx2*dx4*x0/105 - dx0*dx2*x0**2/5 + dx0*dx3**3/30030 - dx0*dx3**2*dx4/30030 + dx0*dx3**2*x0/105 + dx0*dx3*dx4**2/30030 + 4*dx0*dx3*dx4*x0/1155 + dx0*dx4**3/170170 + dx0*dx4**2*x0/231 + 2*dx0*x0**3 + dx0 + dx1**4/630 - dx1**3*dx3/1155 - dx1**3*x0/35 + dx1**2*dx2**2/1155 - 3*dx1**2*dx2*dx4/5005 + dx1**2*dx3**2/2730 + dx1**2*dx3*x0/105 + dx1**2*dx4**2/6006 + dx1**2*x0**2/5 + dx1*dx2**2*dx3/15015 - dx1*dx2**2*x0/105 + 2*dx1*dx2*dx3*dx4/15015 + 2*dx1*dx2*dx4*x0/385 - dx1*dx3**3/30030 - 4*dx1*dx3**2*x0/1155 - dx1*dx3*dx4**2/34034 - dx1*dx3*x0**2/35 - 8*dx1*dx4**2*x0/5005 - 2*dx1*x0**3/3 - dx1/3 + dx2**4/30030 - dx2**3*dx4/45045 + dx2**2*dx3**2/30030 - dx2**2*dx3*x0/1155 + dx2**2*dx4**2/46410 + dx2**2*x0**2/35 - dx2*dx3**2*dx4/510510 - 4*dx2*dx3*dx4*x0/5005 - 3*dx2*dx4**3/646646 - dx2*dx4*x0**2/105 + dx3**4/255255 + dx3**3*x0/15015 + 5*dx3**2*dx4**2/969969 + dx3**2*x0**2/105 + dx3*dx4**2*x0/15015 + 4*dx4**4/4849845 + dx4**2*x0**2/231 + x0**4 + 2*x0"
      ]
     },
     "execution_count": 103,
     "metadata": {},
     "output_type": "execute_result"
    }
   ],
   "source": [
    "proj_grad[0]"
   ]
  },
  {
   "cell_type": "code",
   "execution_count": 58,
   "metadata": {},
   "outputs": [
    {
     "data": {
      "text/plain": [
       "[Poly(1, sigma, domain='ZZ'),\n",
       " Poly(2*sigma - 1, sigma, domain='ZZ'),\n",
       " Poly(6*sigma**2 - 6*sigma + 1, sigma, domain='ZZ')]"
      ]
     },
     "execution_count": 58,
     "metadata": {},
     "output_type": "execute_result"
    }
   ],
   "source": [
    "leg"
   ]
  },
  {
   "cell_type": "code",
   "execution_count": null,
   "metadata": {},
   "outputs": [],
   "source": []
  }
 ],
 "metadata": {
  "interpreter": {
   "hash": "e79cd7cccce0edb7ce1f8bb3e1f52ea26e8fff72d9eb49869062fa776612280f"
  },
  "kernelspec": {
   "display_name": "Python 3.9.7 ('RPMtest')",
   "language": "python",
   "name": "python3"
  },
  "language_info": {
   "codemirror_mode": {
    "name": "ipython",
    "version": 3
   },
   "file_extension": ".py",
   "mimetype": "text/x-python",
   "name": "python",
   "nbconvert_exporter": "python",
   "pygments_lexer": "ipython3",
   "version": "3.9.7"
  },
  "orig_nbformat": 4
 },
 "nbformat": 4,
 "nbformat_minor": 2
}
